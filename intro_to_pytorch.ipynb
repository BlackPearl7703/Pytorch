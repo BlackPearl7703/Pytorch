{
  "nbformat": 4,
  "nbformat_minor": 0,
  "metadata": {
    "colab": {
      "provenance": [],
      "gpuType": "T4",
      "authorship_tag": "ABX9TyNij5vpm7ns+nX50ciZFL0r",
      "include_colab_link": true
    },
    "kernelspec": {
      "name": "python3",
      "display_name": "Python 3"
    },
    "language_info": {
      "name": "python"
    },
    "accelerator": "GPU"
  },
  "cells": [
    {
      "cell_type": "markdown",
      "metadata": {
        "id": "view-in-github",
        "colab_type": "text"
      },
      "source": [
        "<a href=\"https://colab.research.google.com/github/BlackPearl7703/Pytorch/blob/main/intro_to_pytorch.ipynb\" target=\"_parent\"><img src=\"https://colab.research.google.com/assets/colab-badge.svg\" alt=\"Open In Colab\"/></a>"
      ]
    },
    {
      "cell_type": "code",
      "execution_count": null,
      "metadata": {
        "colab": {
          "base_uri": "https://localhost:8080/"
        },
        "id": "X1xBMH2nZLF0",
        "outputId": "d3a883d1-c189-4e53-823e-73920563ff8a"
      },
      "outputs": [
        {
          "output_type": "execute_result",
          "data": {
            "text/plain": [
              "4"
            ]
          },
          "metadata": {},
          "execution_count": 1
        }
      ],
      "source": [
        "2+2"
      ]
    },
    {
      "cell_type": "code",
      "source": [
        "import torch\n",
        "import torch.nn as nn\n",
        "import torch.nn.functional as F"
      ],
      "metadata": {
        "id": "YS-_OG4OcJKs"
      },
      "execution_count": 1,
      "outputs": []
    },
    {
      "cell_type": "code",
      "source": [
        "class Model(nn.Module):\n",
        "  #we are trying for a exmaple of taking 4 features of a flower and guessing its class\n",
        "  #4 input features , 2 hidden layers ,  output layer(3 classes of flower)\n",
        "    def __init__(self,in_features=4,h1=8,h2=9,out_features=3):\n",
        "        super().__init__(); #used to instantiate out nn module\n",
        "        self.fc1=nn.Linear(in_features,h1)\n",
        "        self.fc2=nn.Linear(h1,h2)\n",
        "        self.out=nn.Linear(h2,out_features)\n",
        "\n",
        "    def forward(self,x):\n",
        "      x=F.relu(self.fc1(x));\n",
        "      x=F.relu(self.fc2(x));\n",
        "      x=self.out(x);\n",
        "      return x\n",
        "\n"
      ],
      "metadata": {
        "id": "_BdG28GmFFCp"
      },
      "execution_count": 6,
      "outputs": []
    },
    {
      "cell_type": "code",
      "source": [
        "torch.manual_seed(40)\n",
        "model = Model()"
      ],
      "metadata": {
        "id": "v0nJo8PFFZ79"
      },
      "execution_count": 8,
      "outputs": []
    }
  ]
}